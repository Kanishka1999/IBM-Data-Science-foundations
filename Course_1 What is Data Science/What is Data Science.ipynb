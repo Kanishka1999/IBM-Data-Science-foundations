{
 "cells": [
  {
   "cell_type": "markdown",
   "metadata": {},
   "source": [
    "## W1"
   ]
  },
  {
   "cell_type": "markdown",
   "metadata": {},
   "source": [
    "### Defining Data Science"
   ]
  },
  {
   "cell_type": "markdown",
   "metadata": {},
   "source": [
    "#### Quiz on W1_1_reading"
   ]
  },
  {
   "cell_type": "markdown",
   "metadata": {},
   "source": [
    "1. Question 1\n",
    "Which of the following jobs was called by the Harvard Business Review the sexiest job of the 21st century?\n",
    " - Data Science\n",
    "<br> \n",
    "<br>\n",
    "2. Question 2\n",
    "According to the report by the McKinsey Global Institute, by 2018, it is projected that there will be a shortage of people with deep analytical skills in the United States. What is the size of this shortage?\n",
    " - 140-190 thousands\n",
    "<br> \n",
    "<br>\n",
    "3. Question 3\n",
    "Walmart addressed its analytical needs by approaching Kaggle to host a competition for analyzing its proprietary data.\n",
    " - True\n",
    "<br> \n",
    "<br>\n",
    "4. Question 4\n",
    "The New York Times reported that the average base salary of a data scientist is $85,000 + competitive bonus.\n",
    " - False\n",
    "<br>\n",
    "<br>\n",
    "5. Question 5\n",
    "According to professor Haider, the three important qualities to possess in order to succeed as a data scientist are:\n",
    " - Curios\n",
    " - Judgenebtal\n",
    " - Good Story Teller"
   ]
  },
  {
   "cell_type": "markdown",
   "metadata": {},
   "source": [
    "### What Do Data Scientists Do?"
   ]
  },
  {
   "cell_type": "markdown",
   "metadata": {},
   "source": [
    "#### Quiz on W1_2_reading"
   ]
  },
  {
   "cell_type": "markdown",
   "metadata": {},
   "source": [
    "1. Question 1\n",
    "Hal Varian, the chief economist at Google, declared that \"the sexy job in the next ten years will be .. :\n",
    " - Statisticians.\n",
    "<br>\n",
    "<br>\n",
    "2. Question 2\n",
    "The author defines a data scientist as someone who uses complicated machine learning to build predictive models, publishes their research results in online blogs, and works from home.\n",
    " - False\n",
    "<br>\n",
    "<br>\n",
    "3. Question 3\n",
    "According to the reading, the author defines data science as the art of uncovering the hidden secrets in data. (Data science is what data scientists do!)\n",
    " - False\n",
    "<br>\n",
    "<br>\n",
    "4. Question 4\n",
    "According to the reading, what is admirable about Dr. Patil’s definition of a data scientist?\n",
    " - His definition is inclusive of individuals from various academic backgrounds and training.\n",
    "<br>\n",
    "<br>\n",
    "5. Question 5\n",
    "According to the reading, the characteristics exhibited by the best data scientists are those who are curious, ask good questions, and have at least 10 years of experience.\n",
    " - False"
   ]
  },
  {
   "cell_type": "markdown",
   "metadata": {},
   "source": [
    "## W2"
   ]
  },
  {
   "cell_type": "markdown",
   "metadata": {},
   "source": [
    "### Data Science Topics"
   ]
  },
  {
   "cell_type": "markdown",
   "metadata": {},
   "source": [
    "#### Quiz on W2_1_reading"
   ]
  },
  {
   "cell_type": "markdown",
   "metadata": {},
   "source": [
    "1. Question 1\n",
    "According to the reading, the output of a data mining exercise largely depends on:\n",
    " - The quality of the data.\n",
    "<br>\n",
    "<br>\n",
    "2. Question 2\n",
    "What should you do when data are missing in a systematic way?\n",
    " - Determine the impact of missing data on the results and whether missing data can be excluded from the analysis.\n",
    "<br>\n",
    "<br>\n",
    "3. Question 3\n",
    "What is an example of a data reduction algorithm?\n",
    " - Principal Component Analysis.\n",
    "<br>\n",
    "<br>\n",
    "4. Question 4\n",
    "After the data are appropriately processed, transformed, and stored, machine learning and non-parametric methods are a good starting point for data mining. \n",
    " - False (visualizations first)\n",
    "<br>\n",
    "<br>\n",
    "5. Question 5\n",
    "“Formal evaluation could include testing the predictive capabilities of the models on observed data to see how effective and efficient the algorithms have been in reproducing data.” This is known as:\n",
    " - In-sample forecast."
   ]
  },
  {
   "cell_type": "markdown",
   "metadata": {},
   "source": [
    "### Data Science Topics (Cont'd)"
   ]
  },
  {
   "cell_type": "markdown",
   "metadata": {},
   "source": [
    "#### Quiz on W2_2_reading"
   ]
  },
  {
   "cell_type": "markdown",
   "metadata": {},
   "source": [
    "1. Question 1\n",
    "The real added value of the author's research on residential real estate properties is quantifying people's preferences of different transport services.\n",
    " - False\n",
    " <br>\n",
    " <br>\n",
    "2. Question 2\n",
    "Regression is a statistical technique developed by sir Frances Galton in 1886\n",
    " - True\n",
    " <br>\n",
    " <br> \n",
    "3. Question 3\n",
    "What did the author's research discover about the impact of an additional washroom on the price of a housing unit?\n",
    " - The author found that an additional washroom adds more to the housing prices than an additional bedroom.\n",
    " <br>\n",
    " <br>\n",
    "4. Question 4\n",
    "The author discovered that houses located more than 2.5 kms to shopping centres sold for less than the rest.\n",
    " - False\n",
    " <br>\n",
    " <br>\n",
    "5. Question 5\n",
    "Based on the reading, which of the following are questions that can be put to regression analysis?\n",
    " - What is the impact of lot size on housing price? (True)\n",
    " - Do homes with brick exterior sell in rural areas? (False)\n",
    " - Do homes with brick exterior sell for less than homes with stone exterior? (True)\n",
    " - What are typical land taxes in a house sale? (False)"
   ]
  },
  {
   "cell_type": "markdown",
   "metadata": {},
   "source": [
    "## W3"
   ]
  },
  {
   "cell_type": "markdown",
   "metadata": {},
   "source": [
    "### Data Science in Buisiness"
   ]
  },
  {
   "cell_type": "markdown",
   "metadata": {},
   "source": [
    "#### Quiz on W3_1_reading"
   ]
  },
  {
   "cell_type": "markdown",
   "metadata": {},
   "source": [
    "1. Question 1\n",
    "According to the reading, what is the ultimate purpose of analytics?\n",
    " - To communicate findings to stakeholders to formulate policy or strategy.\n",
    "2. Question 2\n",
    "What role of a data scientist is discussed in the reading?\n",
    " - Using insights to build a narrative to communicate findings.\n",
    "3. Question 3\n",
    "The Untied States Economic Forecast is a publication by McKinsey University Press.\n",
    " - False\n",
    "4. Question 4\n",
    "The report discussed in the reading successfully did the job of using data and analytics to generate the likely economic scenarios.\n",
    " - True\n",
    "5. Question 5\n",
    "According to the reading, in order to produce a compelling narrative, initial planning and conceptualizing of the final deliverable is of extreme importance.\n",
    " - True"
   ]
  },
  {
   "cell_type": "markdown",
   "metadata": {},
   "source": [
    "The report structure:\n",
    " - Cover page\n",
    " - Table of contents (ToC)\n",
    " - Abstract/executive summary\n",
    " - Introduction\n",
    " - Methodology\n",
    " - Results\n",
    " - Conclusion"
   ]
  },
  {
   "cell_type": "markdown",
   "metadata": {},
   "source": [
    "Have you done your job as a writer:\n",
    "1. Have you told readers, at the outset, what they might gain by reading your paper?\n",
    "2. Have you made the aim of your work clear?\n",
    "3. Have you explained the significance of ur contribution?\n",
    "4. Have you set your work in the appropriate context by giving sufficient background (including a complete set of relevant references) to your work?\n",
    "5. Have you addressed the question of practicality and usefulness?\n",
    "6. Have you identified future developments that might result from my work?\n",
    "7. Have you structured your paper in a clear and logical fashion?"
   ]
  },
  {
   "cell_type": "markdown",
   "metadata": {},
   "source": [
    "1. Question 1\n",
    "Regardless of the length of the final deliverable, the author recommends that it includes a cover page, table of contents, executive summary, detailed contents, acknowledgments, and references.\n",
    " - True\n",
    "<br>\n",
    "<br>\n",
    "2. Question 2\n",
    "An introductory section is always helpful in:\n",
    " - Introducing the research methods.\n",
    " - Presenting the statistical calculations.\n",
    " - Advertising the product.\n",
    " - Setting up the problem for the reader who might be new to the topic. (True)\n",
    "<br>\n",
    "<br> \n",
    "3. Question 3\n",
    "The results section is where you present:\n",
    " - The conclusion. \n",
    " - R Squared.\n",
    " - The methods used.\n",
    " - The empirical findings. (True)\n",
    "<br>\n",
    "<br> \n",
    "4. Question 4\n",
    "The discussion section is where you:\n",
    " - Introduce the research methods and data sources used for the analysis. \n",
    " - Rely on the power of narrative to enable numbers to communicate your important findings to the readers. (True)\n",
    " - Highlight how your findings provide the ultimate missing piece to the puzzle. (True)\n",
    " - Refer the reader to the research question and the knowledge gaps you identified earlier. (True)\n",
    "<br>\n",
    "<br>\n",
    "5. Question 5\n",
    "According to the reading, what is an example of housekeeping?\n",
    " - Saving the report as a PDF file.\n",
    " - Adding slide numbers.\n",
    " - Adding headings to charts.\n",
    " - Adding a list of references. (True)\n"
   ]
  }
 ],
 "metadata": {
  "kernelspec": {
   "display_name": "Python 3",
   "language": "python",
   "name": "python3"
  },
  "language_info": {
   "codemirror_mode": {
    "name": "ipython",
    "version": 3
   },
   "file_extension": ".py",
   "mimetype": "text/x-python",
   "name": "python",
   "nbconvert_exporter": "python",
   "pygments_lexer": "ipython3",
   "version": "3.6.5"
  }
 },
 "nbformat": 4,
 "nbformat_minor": 2
}
