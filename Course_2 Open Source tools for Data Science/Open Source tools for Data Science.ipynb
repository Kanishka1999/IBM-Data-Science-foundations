{
 "cells": [
  {
   "cell_type": "markdown",
   "metadata": {},
   "source": [
    "## W1"
   ]
  },
  {
   "cell_type": "markdown",
   "metadata": {},
   "source": [
    "### Introducing Cognitive Class Labs"
   ]
  },
  {
   "cell_type": "markdown",
   "metadata": {},
   "source": [
    "What is it?\n",
    "\n",
    "- Cognitive Class Labs is a free web-service that enables you to practice data science using popular tools including Jupyter Notebooks, RStudio IDE, OpenRefine, and more."
   ]
  },
  {
   "cell_type": "markdown",
   "metadata": {},
   "source": [
    "Instruments to mention:\n",
    "\n",
    "Jupiter Notebooks advantages:\n",
    "\n",
    "- Jupyter Notebooks are interactive; you can execute small chunks of code at a time.\n",
    "- Jupyter Notebooks are great for documenting your results especially because you can include text and media throughout your notebook.\n",
    "- Jupyter Notebooks are great for analyzing your data, and can be used several programming languages including Python, R and Scala.\n",
    "\n",
    "Zeppelin Notebooks:\n",
    "- Build in apache spark visualization\n",
    "\n",
    "RStudio\n",
    "\n",
    "Seahorse:\n",
    "- Spark visualization"
   ]
  },
  {
   "cell_type": "markdown",
   "metadata": {},
   "source": [
    "#### Quiz 1 - Cognitive Class Labs\n",
    "1. Question 1<br>\n",
    "Cognitive Class Labs is:\n",
    " - An environment that saves time: from installing, configuring and maintaining tools\n",
    " - A web-based environment that data science practitioners and enthusiasts alike can use for free\n",
    " - An online virtual lab environment that includes several open data science tools in the cloud\n",
    "<br> \n",
    "<br> \n",
    "2. Question 2<br>\n",
    "Cognitive Class Labs provides an integrated environment to:\n",
    " - Learn and try various, popular data science tools\n",
    " - Use tools such as Python and Scala\n",
    " - Use tools such as R and Spark\n",
    " - Save you time without needing to install and configure these tools\n",
    "<br> \n",
    "<br>\n",
    "3. Question 3<br>\n",
    "Zeppelin and Jupyter Notebooks are great for Interactive Data Analytics:\n",
    " - Analyzing data\n",
    " - Visualizing data\n",
    " - Cleaning data\n",
    "<br> \n",
    "<br> \n",
    "4. Question 4<br>\n",
    "Which of the following feature of RStudio specifically enables you to create interactive apps or visualizations?\n",
    " - Shiny (True)\n",
    " - Apache Spark\n",
    " - Text Editor\n",
    " - None of the above\n",
    "<br> \n",
    "<br>  \n",
    "5. Question 5<br>\n",
    "True or False: Basic charts are already included in Apache Zeppelin, allowing you to convert data tables directly into visualizations without any code.\n",
    " - True"
   ]
  },
  {
   "cell_type": "markdown",
   "metadata": {},
   "source": [
    "### Introducing Jupyter Notebooks"
   ]
  },
  {
   "cell_type": "markdown",
   "metadata": {},
   "source": [
    "Jupyter Notebooks are \"interactive\" documents that enable you to write and execute code in chunks (as opposed to all-or-none), add explanatory text, write mathematical equations. They are popular in data science as you can most of the data science work (importing data, cleaning data, analyzing data, visualizing data, machine learning) and you can also share the notebooks to collaborate with others."
   ]
  },
  {
   "cell_type": "markdown",
   "metadata": {},
   "source": [
    "Ideal for collaboration and easy to undertand for others"
   ]
  },
  {
   "cell_type": "markdown",
   "metadata": {},
   "source": [
    "1. Question 1\n",
    "Things you can write in Jupyter Notebooks:\n",
    " - Code to be executed in one of the kernels (e.g. Python, R or Scala)\n",
    " - Stylized text in a format called \"Markdown\".\n",
    " - HTML code -- HTML can be written and rendered via Markdown cells.\n",
    "<br>\n",
    "<br>\n",
    "2. Question 2\n",
    "What were Jupyter notebooks called before the name was changed to “Jupyter”?\n",
    " - IPython notebooks (True)\n",
    " - IScala notebooks\n",
    " - IR notebooks\n",
    " - Saturn notebooks\n",
    " - None of the above\n",
    "<br>\n",
    "<br>\n",
    "3. Question 3\n",
    "Which of the following can specifically enable you to leverage big data with Jupyter Notebooks?\n",
    " - Python only\n",
    " - Apache Spark (True)\n",
    " - Scala only\n",
    " - R only\n",
    "<br>\n",
    "<br>\n",
    "4. Question 4\n",
    "Which of the following options are TRUE? Select all that apply.\n",
    " - You can download and save Jupyter Notebooks as .ipynb files. (True)\n",
    " - You can change kernels within a Jupyter Notebook (e.g., to R or Python or Scala). (True)\n",
    " - You can document your code with stylized text using a formatting style called \"Markleft\" (Markdown)\n",
    " - You can connect to databases from within Jupyter Notebooks. (True)\n",
    "<br>\n",
    "<br>\n",
    "5. Question 5\n",
    "True or False? Although you can change the kernel of the Jupyter Notebook between different programming languages (e.g., Python, R, Scala), you cannot use multiple kernels within the same Jupyter notebook (e.g., running Python, R and Scala within the same notebook).\n",
    " - True"
   ]
  },
  {
   "cell_type": "markdown",
   "metadata": {},
   "source": [
    "-----"
   ]
  },
  {
   "cell_type": "markdown",
   "metadata": {},
   "source": [
    "## W2"
   ]
  },
  {
   "cell_type": "markdown",
   "metadata": {},
   "source": [
    "### Introducing Zeppelin Notebooks"
   ]
  },
  {
   "cell_type": "markdown",
   "metadata": {},
   "source": [
    "Zeppelin notebooks come with the following built in: \n",
    " - Apache Spark\n",
    " - certain data visualizations\n",
    " - pivot charts"
   ]
  },
  {
   "cell_type": "markdown",
   "metadata": {},
   "source": [
    "Covers all analytic needs:\n",
    "- Data ingestion\n",
    "- Data discovery\n",
    "- Data analytics\n",
    "- Data Visualization & Collaboration"
   ]
  },
  {
   "cell_type": "markdown",
   "metadata": {},
   "source": [
    "Interesting features:\n",
    " - Build in apache spark integration\n",
    " - Automatic Spark context\n",
    " - SQL context injection"
   ]
  },
  {
   "cell_type": "markdown",
   "metadata": {},
   "source": [
    "Tutorial 1: Spark With Scala\n",
    "1. .csv can be converted to Spark DataFrame\n",
    "2. Data is quered by sql command \n",
    "3. Data is visualized"
   ]
  },
  {
   "cell_type": "markdown",
   "metadata": {},
   "source": [
    "Zeppelin vs Jupyter benefits:\n",
    "- Some visualizations are automatically generated in Zeppelin, thus minimizing code required\n",
    "- Possible to use multiple languages in the same notebook in Zeppelin, but not in Jupyter"
   ]
  },
  {
   "cell_type": "markdown",
   "metadata": {},
   "source": [
    "Another difference that it is .json format!<br>\n",
    "Zeppelin Notebooks quiz:"
   ]
  },
  {
   "cell_type": "markdown",
   "metadata": {},
   "source": [
    "1. Question 1\n",
    "Apache Zeppelin lets you:\n",
    " - Document your code.\n",
    " - Display your output.\n",
    " - Show your visualizations within the Zeppelin notebook.\n",
    " - Switch between multiple languages.\n",
    " - All of the above (True)\n",
    " - None of the above\n",
    "<br>\n",
    "<br>\n",
    "2. Question 2\n",
    "Which IS NOT an interpreter supported by Zeppelin? \n",
    " - Apache Spark\n",
    " - Python\n",
    " - Markdown\n",
    " - Shell\n",
    " - Matlab (True)\n",
    "<br>\n",
    "<br> \n",
    "3. Question 3\n",
    "Major benefits to using Zeppelin over Jupyter notebooks include:\n",
    " - Some visualizations are automatically generated in Zeppelin, thus minimizing code required\n",
    " - You can use multiple languages in the same notebook in Zeppelin, but not in Jupyter\n",
    " - Both of the above (True)\n",
    "<br>\n",
    "<br> \n",
    "4. Question 4\n",
    "True or False? You cannot customize the width of your cells in a Zeppelin notebook.\n",
    " - False\n",
    "<br>\n",
    "<br>\n",
    "5. Question 5\n",
    "True or False? You can use multiple programming languages within the same Zeppelin notebook, and they can even operate on the same data.\n",
    " - True"
   ]
  },
  {
   "cell_type": "markdown",
   "metadata": {},
   "source": [
    "### RStudio"
   ]
  },
  {
   "cell_type": "markdown",
   "metadata": {},
   "source": [
    "Ideas:\n",
    "- Using a text editor will provide you a larger space for you to write your code, that you can save, and even describe what your code does.\n",
    "- SC - preinstalled apache spark enviroment\n",
    "- Remove environment rm('environment name')"
   ]
  },
  {
   "cell_type": "markdown",
   "metadata": {},
   "source": [
    "1. Question 1\n",
    "RStudio IDE allows you to:\n",
    " - Analyze data\n",
    " - See your console\n",
    " - Visualize your plots and graphs\n",
    "<br>\n",
    "<br>\n",
    "2. Question 2\n",
    "The reason why 'sc' is one of the default variables in RStudio IDE on Cognitive Class Labs is because:\n",
    " - \"sc\" stands for \"SuperComputer\" and was created by default to help users analyze big data\n",
    " - \"sc\" stands for \"SparkContext\" and is created by default to enable users to use Apache Spark from RStudio IDE. (True)\n",
    " - It's actually a bug and should not have been created by default.\n",
    "<br>\n",
    "<br> \n",
    "3. Question 3\n",
    "What are ways that you can execute R code in RStudio? \n",
    " - A. From the console only\n",
    " - B. From the script editor only\n",
    " - C. From the script editor & console (True)\n",
    " - D. From the script editor, console & global environments tab\n",
    "<br>\n",
    "<br>  \n",
    "4. Question 4\n",
    "True or False? You can view a history of code you have previously executed on RStudio IDE.\n",
    " - True\n",
    "<br>\n",
    "<br> \n",
    "5. Question 5\n",
    "Which of the following options are True? Select all that apply:\n",
    " - You can execute Python, R or Scala code in RStudio.\n",
    " - RStudio keeps track of the variables you've assigned in the \"Packages\" window.\n",
    " - You can create maps in RStudio, but they are not interactive (e.g., you cannot zoom in or out of the maps).\n",
    " - You can use built-in datasets (\"dataframes\") in RStudio, such as \"mtcars\". (True)"
   ]
  },
  {
   "cell_type": "markdown",
   "metadata": {},
   "source": [
    "-----"
   ]
  },
  {
   "cell_type": "markdown",
   "metadata": {},
   "source": [
    "## W3"
   ]
  },
  {
   "cell_type": "markdown",
   "metadata": {},
   "source": [
    "About IBM Data Science Experience"
   ]
  },
  {
   "cell_type": "markdown",
   "metadata": {},
   "source": [
    "IBM Data Science Experience (DSX) in an enterprise-ready environment for data scientists and developers, and includes some of the tools as you have learned so far on Cognitive Class Labs. You may find that many of the features are similar as what you have seen on Cognitive Class Labs. However, because IBM Data Science Experience was designed for scalability and enterprise usage, you will find some extra features that include (1) collaboration with team members, (2) scalability with Spark clusters to analyze big data, and (3) connections to various data sources.\n",
    "\n",
    "IBM Data Science Experience also comes with a free trial, which includes Jupyter Notebooks, RStudio, space for object storage, 2 Spark executors, and a community that includes notebooks and tutorials that you can use."
   ]
  },
  {
   "cell_type": "markdown",
   "metadata": {},
   "source": [
    "1. Question 1 What is the key difference between Cognitive Class Labs and IBM Data Science Experience?  \n",
    " - IBM Data Science Experience is an enterprise-ready environment with scalability in mind, whereas Cognitive Class Labs is primarily a learning environment.\n",
    "<br>\n",
    "<br>\n",
    "2. Question 2\n",
    "True or False? The only way to add notebooks to your project on IBM Data Science Experience is to either create an empty notebook, or upload a notebook from your computer.\n",
    " - False (I can add notebook from IBM community)\n",
    "<br>\n",
    "<br>\n",
    "3. Question 3\n",
    "Which of the follow options are correct? Select all that apply:\n",
    " - You can add collaborators to projects (True)\n",
    " - Collaborators on a project can add comments to notebooks. (True)\n",
    " - Projects are public and anyone can access the notebooks or data within. (False)\n",
    " - You can use Python 2, Python 3, R or Scala with Jupyter Notebooks on IBM Data Science Experience (True)\n",
    "<br>\n",
    "<br>\n",
    "4. Question 4\n",
    "In the upper right-hand corner of a Jupyter Notebook is the kernel interpreter (e.g., Python 3). Next to it is a circle. What does it mean if the circle is a full, black circle and what should you do?\n",
    " - A black circle means that the kernel is not ready to execute more code. You can either wait, interrupt, or try to restart the kernel. (True)\n",
    " - A black circle means that the kernel is ready to execute code. You can run code as normal, which will be executed by the kernel as it is ready.\n",
    " - A black circle means that the notebook is currently being saved, and you can wait a few seconds for it to finish saving.\n",
    " - A black circle means that the notebook is now capable of running Python, R and Scala in the same notebook.\n",
    "<br>\n",
    "<br> \n",
    "5. Question 5\n",
    "True or False? RStudio is available on IBM Data Science Experience \n",
    " - True\n"
   ]
  }
 ],
 "metadata": {
  "kernelspec": {
   "display_name": "Python 3",
   "language": "python",
   "name": "python3"
  },
  "language_info": {
   "codemirror_mode": {
    "name": "ipython",
    "version": 3
   },
   "file_extension": ".py",
   "mimetype": "text/x-python",
   "name": "python",
   "nbconvert_exporter": "python",
   "pygments_lexer": "ipython3",
   "version": "3.6.5"
  }
 },
 "nbformat": 4,
 "nbformat_minor": 2
}
